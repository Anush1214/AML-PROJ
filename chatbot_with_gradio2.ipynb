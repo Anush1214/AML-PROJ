{
 "cells": [
  {
   "cell_type": "code",
   "execution_count": 23,
   "id": "2a5fd3ed-686f-47fc-b90b-e4e6bb377098",
   "metadata": {},
   "outputs": [
    {
     "name": "stdout",
     "output_type": "stream",
     "text": [
      "Requirement already satisfied: chatterbot in c:\\users\\lapto\\appdata\\local\\packages\\pythonsoftwarefoundation.python.3.11_qbz5n2kfra8p0\\localcache\\local-packages\\python311\\site-packages (1.2.3)\n",
      "Requirement already satisfied: chatterbot_corpus in c:\\users\\lapto\\appdata\\local\\packages\\pythonsoftwarefoundation.python.3.11_qbz5n2kfra8p0\\localcache\\local-packages\\python311\\site-packages (1.2.2)\n",
      "Requirement already satisfied: mathparse<0.2,>=0.1 in c:\\users\\lapto\\appdata\\local\\packages\\pythonsoftwarefoundation.python.3.11_qbz5n2kfra8p0\\localcache\\local-packages\\python311\\site-packages (from chatterbot) (0.1.2)\n",
      "Requirement already satisfied: python-dateutil<2.10,>=2.9 in c:\\users\\lapto\\appdata\\local\\packages\\pythonsoftwarefoundation.python.3.11_qbz5n2kfra8p0\\localcache\\local-packages\\python311\\site-packages (from chatterbot) (2.9.0.post0)\n",
      "Requirement already satisfied: sqlalchemy<2.1,>=2.0 in c:\\users\\lapto\\appdata\\local\\packages\\pythonsoftwarefoundation.python.3.11_qbz5n2kfra8p0\\localcache\\local-packages\\python311\\site-packages (from chatterbot) (2.0.39)\n",
      "Requirement already satisfied: spacy<3.9,>=3.8 in c:\\users\\lapto\\appdata\\local\\packages\\pythonsoftwarefoundation.python.3.11_qbz5n2kfra8p0\\localcache\\local-packages\\python311\\site-packages (from chatterbot) (3.8.4)\n",
      "Requirement already satisfied: tqdm in c:\\users\\lapto\\appdata\\local\\packages\\pythonsoftwarefoundation.python.3.11_qbz5n2kfra8p0\\localcache\\local-packages\\python311\\site-packages (from chatterbot) (4.67.1)\n",
      "Requirement already satisfied: six>=1.5 in c:\\users\\lapto\\appdata\\local\\packages\\pythonsoftwarefoundation.python.3.11_qbz5n2kfra8p0\\localcache\\local-packages\\python311\\site-packages (from python-dateutil<2.10,>=2.9->chatterbot) (1.17.0)\n",
      "Requirement already satisfied: spacy-legacy<3.1.0,>=3.0.11 in c:\\users\\lapto\\appdata\\local\\packages\\pythonsoftwarefoundation.python.3.11_qbz5n2kfra8p0\\localcache\\local-packages\\python311\\site-packages (from spacy<3.9,>=3.8->chatterbot) (3.0.12)\n",
      "Requirement already satisfied: spacy-loggers<2.0.0,>=1.0.0 in c:\\users\\lapto\\appdata\\local\\packages\\pythonsoftwarefoundation.python.3.11_qbz5n2kfra8p0\\localcache\\local-packages\\python311\\site-packages (from spacy<3.9,>=3.8->chatterbot) (1.0.5)\n",
      "Requirement already satisfied: murmurhash<1.1.0,>=0.28.0 in c:\\users\\lapto\\appdata\\local\\packages\\pythonsoftwarefoundation.python.3.11_qbz5n2kfra8p0\\localcache\\local-packages\\python311\\site-packages (from spacy<3.9,>=3.8->chatterbot) (1.0.12)\n",
      "Requirement already satisfied: cymem<2.1.0,>=2.0.2 in c:\\users\\lapto\\appdata\\local\\packages\\pythonsoftwarefoundation.python.3.11_qbz5n2kfra8p0\\localcache\\local-packages\\python311\\site-packages (from spacy<3.9,>=3.8->chatterbot) (2.0.11)\n",
      "Requirement already satisfied: preshed<3.1.0,>=3.0.2 in c:\\users\\lapto\\appdata\\local\\packages\\pythonsoftwarefoundation.python.3.11_qbz5n2kfra8p0\\localcache\\local-packages\\python311\\site-packages (from spacy<3.9,>=3.8->chatterbot) (3.0.9)\n",
      "Requirement already satisfied: thinc<8.4.0,>=8.3.4 in c:\\users\\lapto\\appdata\\local\\packages\\pythonsoftwarefoundation.python.3.11_qbz5n2kfra8p0\\localcache\\local-packages\\python311\\site-packages (from spacy<3.9,>=3.8->chatterbot) (8.3.4)\n",
      "Requirement already satisfied: wasabi<1.2.0,>=0.9.1 in c:\\users\\lapto\\appdata\\local\\packages\\pythonsoftwarefoundation.python.3.11_qbz5n2kfra8p0\\localcache\\local-packages\\python311\\site-packages (from spacy<3.9,>=3.8->chatterbot) (1.1.3)\n",
      "Requirement already satisfied: srsly<3.0.0,>=2.4.3 in c:\\users\\lapto\\appdata\\local\\packages\\pythonsoftwarefoundation.python.3.11_qbz5n2kfra8p0\\localcache\\local-packages\\python311\\site-packages (from spacy<3.9,>=3.8->chatterbot) (2.5.1)\n",
      "Requirement already satisfied: catalogue<2.1.0,>=2.0.6 in c:\\users\\lapto\\appdata\\local\\packages\\pythonsoftwarefoundation.python.3.11_qbz5n2kfra8p0\\localcache\\local-packages\\python311\\site-packages (from spacy<3.9,>=3.8->chatterbot) (2.0.10)\n",
      "Requirement already satisfied: weasel<0.5.0,>=0.1.0 in c:\\users\\lapto\\appdata\\local\\packages\\pythonsoftwarefoundation.python.3.11_qbz5n2kfra8p0\\localcache\\local-packages\\python311\\site-packages (from spacy<3.9,>=3.8->chatterbot) (0.4.1)\n",
      "Requirement already satisfied: typer<1.0.0,>=0.3.0 in c:\\users\\lapto\\appdata\\local\\packages\\pythonsoftwarefoundation.python.3.11_qbz5n2kfra8p0\\localcache\\local-packages\\python311\\site-packages (from spacy<3.9,>=3.8->chatterbot) (0.15.2)\n",
      "Requirement already satisfied: numpy>=1.19.0 in c:\\users\\lapto\\appdata\\local\\packages\\pythonsoftwarefoundation.python.3.11_qbz5n2kfra8p0\\localcache\\local-packages\\python311\\site-packages (from spacy<3.9,>=3.8->chatterbot) (2.2.3)\n",
      "Requirement already satisfied: requests<3.0.0,>=2.13.0 in c:\\users\\lapto\\appdata\\local\\packages\\pythonsoftwarefoundation.python.3.11_qbz5n2kfra8p0\\localcache\\local-packages\\python311\\site-packages (from spacy<3.9,>=3.8->chatterbot) (2.32.3)\n",
      "Requirement already satisfied: pydantic!=1.8,!=1.8.1,<3.0.0,>=1.7.4 in c:\\users\\lapto\\appdata\\local\\packages\\pythonsoftwarefoundation.python.3.11_qbz5n2kfra8p0\\localcache\\local-packages\\python311\\site-packages (from spacy<3.9,>=3.8->chatterbot) (2.10.6)\n",
      "Requirement already satisfied: jinja2 in c:\\users\\lapto\\appdata\\local\\packages\\pythonsoftwarefoundation.python.3.11_qbz5n2kfra8p0\\localcache\\local-packages\\python311\\site-packages (from spacy<3.9,>=3.8->chatterbot) (3.1.6)\n",
      "Requirement already satisfied: setuptools in c:\\program files\\windowsapps\\pythonsoftwarefoundation.python.3.11_3.11.2544.0_x64__qbz5n2kfra8p0\\lib\\site-packages (from spacy<3.9,>=3.8->chatterbot) (65.5.0)\n",
      "Requirement already satisfied: packaging>=20.0 in c:\\users\\lapto\\appdata\\local\\packages\\pythonsoftwarefoundation.python.3.11_qbz5n2kfra8p0\\localcache\\local-packages\\python311\\site-packages (from spacy<3.9,>=3.8->chatterbot) (24.2)\n",
      "Requirement already satisfied: langcodes<4.0.0,>=3.2.0 in c:\\users\\lapto\\appdata\\local\\packages\\pythonsoftwarefoundation.python.3.11_qbz5n2kfra8p0\\localcache\\local-packages\\python311\\site-packages (from spacy<3.9,>=3.8->chatterbot) (3.5.0)\n",
      "Requirement already satisfied: greenlet!=0.4.17 in c:\\users\\lapto\\appdata\\local\\packages\\pythonsoftwarefoundation.python.3.11_qbz5n2kfra8p0\\localcache\\local-packages\\python311\\site-packages (from sqlalchemy<2.1,>=2.0->chatterbot) (3.1.1)\n",
      "Requirement already satisfied: typing-extensions>=4.6.0 in c:\\users\\lapto\\appdata\\local\\packages\\pythonsoftwarefoundation.python.3.11_qbz5n2kfra8p0\\localcache\\local-packages\\python311\\site-packages (from sqlalchemy<2.1,>=2.0->chatterbot) (4.12.2)\n",
      "Requirement already satisfied: colorama in c:\\users\\lapto\\appdata\\local\\packages\\pythonsoftwarefoundation.python.3.11_qbz5n2kfra8p0\\localcache\\local-packages\\python311\\site-packages (from tqdm->chatterbot) (0.4.6)\n",
      "Requirement already satisfied: language-data>=1.2 in c:\\users\\lapto\\appdata\\local\\packages\\pythonsoftwarefoundation.python.3.11_qbz5n2kfra8p0\\localcache\\local-packages\\python311\\site-packages (from langcodes<4.0.0,>=3.2.0->spacy<3.9,>=3.8->chatterbot) (1.3.0)\n",
      "Requirement already satisfied: annotated-types>=0.6.0 in c:\\users\\lapto\\appdata\\local\\packages\\pythonsoftwarefoundation.python.3.11_qbz5n2kfra8p0\\localcache\\local-packages\\python311\\site-packages (from pydantic!=1.8,!=1.8.1,<3.0.0,>=1.7.4->spacy<3.9,>=3.8->chatterbot) (0.7.0)\n",
      "Requirement already satisfied: pydantic-core==2.27.2 in c:\\users\\lapto\\appdata\\local\\packages\\pythonsoftwarefoundation.python.3.11_qbz5n2kfra8p0\\localcache\\local-packages\\python311\\site-packages (from pydantic!=1.8,!=1.8.1,<3.0.0,>=1.7.4->spacy<3.9,>=3.8->chatterbot) (2.27.2)\n",
      "Requirement already satisfied: charset-normalizer<4,>=2 in c:\\users\\lapto\\appdata\\local\\packages\\pythonsoftwarefoundation.python.3.11_qbz5n2kfra8p0\\localcache\\local-packages\\python311\\site-packages (from requests<3.0.0,>=2.13.0->spacy<3.9,>=3.8->chatterbot) (3.4.1)\n",
      "Requirement already satisfied: idna<4,>=2.5 in c:\\users\\lapto\\appdata\\local\\packages\\pythonsoftwarefoundation.python.3.11_qbz5n2kfra8p0\\localcache\\local-packages\\python311\\site-packages (from requests<3.0.0,>=2.13.0->spacy<3.9,>=3.8->chatterbot) (3.10)\n",
      "Requirement already satisfied: urllib3<3,>=1.21.1 in c:\\users\\lapto\\appdata\\local\\packages\\pythonsoftwarefoundation.python.3.11_qbz5n2kfra8p0\\localcache\\local-packages\\python311\\site-packages (from requests<3.0.0,>=2.13.0->spacy<3.9,>=3.8->chatterbot) (2.3.0)\n",
      "Requirement already satisfied: certifi>=2017.4.17 in c:\\users\\lapto\\appdata\\local\\packages\\pythonsoftwarefoundation.python.3.11_qbz5n2kfra8p0\\localcache\\local-packages\\python311\\site-packages (from requests<3.0.0,>=2.13.0->spacy<3.9,>=3.8->chatterbot) (2025.1.31)\n",
      "Requirement already satisfied: blis<1.3.0,>=1.2.0 in c:\\users\\lapto\\appdata\\local\\packages\\pythonsoftwarefoundation.python.3.11_qbz5n2kfra8p0\\localcache\\local-packages\\python311\\site-packages (from thinc<8.4.0,>=8.3.4->spacy<3.9,>=3.8->chatterbot) (1.2.0)\n",
      "Requirement already satisfied: confection<1.0.0,>=0.0.1 in c:\\users\\lapto\\appdata\\local\\packages\\pythonsoftwarefoundation.python.3.11_qbz5n2kfra8p0\\localcache\\local-packages\\python311\\site-packages (from thinc<8.4.0,>=8.3.4->spacy<3.9,>=3.8->chatterbot) (0.1.5)\n",
      "Requirement already satisfied: click>=8.0.0 in c:\\users\\lapto\\appdata\\local\\packages\\pythonsoftwarefoundation.python.3.11_qbz5n2kfra8p0\\localcache\\local-packages\\python311\\site-packages (from typer<1.0.0,>=0.3.0->spacy<3.9,>=3.8->chatterbot) (8.1.8)\n",
      "Requirement already satisfied: shellingham>=1.3.0 in c:\\users\\lapto\\appdata\\local\\packages\\pythonsoftwarefoundation.python.3.11_qbz5n2kfra8p0\\localcache\\local-packages\\python311\\site-packages (from typer<1.0.0,>=0.3.0->spacy<3.9,>=3.8->chatterbot) (1.5.4)\n",
      "Requirement already satisfied: rich>=10.11.0 in c:\\users\\lapto\\appdata\\local\\packages\\pythonsoftwarefoundation.python.3.11_qbz5n2kfra8p0\\localcache\\local-packages\\python311\\site-packages (from typer<1.0.0,>=0.3.0->spacy<3.9,>=3.8->chatterbot) (13.9.4)\n",
      "Requirement already satisfied: cloudpathlib<1.0.0,>=0.7.0 in c:\\users\\lapto\\appdata\\local\\packages\\pythonsoftwarefoundation.python.3.11_qbz5n2kfra8p0\\localcache\\local-packages\\python311\\site-packages (from weasel<0.5.0,>=0.1.0->spacy<3.9,>=3.8->chatterbot) (0.21.0)\n",
      "Requirement already satisfied: smart-open<8.0.0,>=5.2.1 in c:\\users\\lapto\\appdata\\local\\packages\\pythonsoftwarefoundation.python.3.11_qbz5n2kfra8p0\\localcache\\local-packages\\python311\\site-packages (from weasel<0.5.0,>=0.1.0->spacy<3.9,>=3.8->chatterbot) (7.1.0)\n",
      "Requirement already satisfied: MarkupSafe>=2.0 in c:\\users\\lapto\\appdata\\local\\packages\\pythonsoftwarefoundation.python.3.11_qbz5n2kfra8p0\\localcache\\local-packages\\python311\\site-packages (from jinja2->spacy<3.9,>=3.8->chatterbot) (2.1.5)\n",
      "Requirement already satisfied: marisa-trie>=1.1.0 in c:\\users\\lapto\\appdata\\local\\packages\\pythonsoftwarefoundation.python.3.11_qbz5n2kfra8p0\\localcache\\local-packages\\python311\\site-packages (from language-data>=1.2->langcodes<4.0.0,>=3.2.0->spacy<3.9,>=3.8->chatterbot) (1.2.1)\n",
      "Requirement already satisfied: markdown-it-py>=2.2.0 in c:\\users\\lapto\\appdata\\local\\packages\\pythonsoftwarefoundation.python.3.11_qbz5n2kfra8p0\\localcache\\local-packages\\python311\\site-packages (from rich>=10.11.0->typer<1.0.0,>=0.3.0->spacy<3.9,>=3.8->chatterbot) (3.0.0)\n",
      "Requirement already satisfied: pygments<3.0.0,>=2.13.0 in c:\\users\\lapto\\appdata\\local\\packages\\pythonsoftwarefoundation.python.3.11_qbz5n2kfra8p0\\localcache\\local-packages\\python311\\site-packages (from rich>=10.11.0->typer<1.0.0,>=0.3.0->spacy<3.9,>=3.8->chatterbot) (2.19.1)\n",
      "Requirement already satisfied: wrapt in c:\\users\\lapto\\appdata\\local\\packages\\pythonsoftwarefoundation.python.3.11_qbz5n2kfra8p0\\localcache\\local-packages\\python311\\site-packages (from smart-open<8.0.0,>=5.2.1->weasel<0.5.0,>=0.1.0->spacy<3.9,>=3.8->chatterbot) (1.17.2)\n",
      "Requirement already satisfied: mdurl~=0.1 in c:\\users\\lapto\\appdata\\local\\packages\\pythonsoftwarefoundation.python.3.11_qbz5n2kfra8p0\\localcache\\local-packages\\python311\\site-packages (from markdown-it-py>=2.2.0->rich>=10.11.0->typer<1.0.0,>=0.3.0->spacy<3.9,>=3.8->chatterbot) (0.1.2)\n"
     ]
    },
    {
     "name": "stderr",
     "output_type": "stream",
     "text": [
      "\n",
      "[notice] A new release of pip is available: 24.0 -> 25.0.1\n",
      "[notice] To update, run: C:\\Users\\lapto\\AppData\\Local\\Microsoft\\WindowsApps\\PythonSoftwareFoundation.Python.3.11_qbz5n2kfra8p0\\python.exe -m pip install --upgrade pip\n"
     ]
    },
    {
     "name": "stdout",
     "output_type": "stream",
     "text": [
      "Requirement already satisfied: fuzzywuzzy in c:\\users\\lapto\\appdata\\local\\packages\\pythonsoftwarefoundation.python.3.11_qbz5n2kfra8p0\\localcache\\local-packages\\python311\\site-packages (0.18.0)\n"
     ]
    },
    {
     "name": "stderr",
     "output_type": "stream",
     "text": [
      "\n",
      "[notice] A new release of pip is available: 24.0 -> 25.0.1\n",
      "[notice] To update, run: C:\\Users\\lapto\\AppData\\Local\\Microsoft\\WindowsApps\\PythonSoftwareFoundation.Python.3.11_qbz5n2kfra8p0\\python.exe -m pip install --upgrade pip\n"
     ]
    },
    {
     "name": "stdout",
     "output_type": "stream",
     "text": [
      "Requirement already satisfied: python-Levenshtein in c:\\users\\lapto\\appdata\\local\\packages\\pythonsoftwarefoundation.python.3.11_qbz5n2kfra8p0\\localcache\\local-packages\\python311\\site-packages (0.27.1)\n",
      "Requirement already satisfied: Levenshtein==0.27.1 in c:\\users\\lapto\\appdata\\local\\packages\\pythonsoftwarefoundation.python.3.11_qbz5n2kfra8p0\\localcache\\local-packages\\python311\\site-packages (from python-Levenshtein) (0.27.1)\n",
      "Requirement already satisfied: rapidfuzz<4.0.0,>=3.9.0 in c:\\users\\lapto\\appdata\\local\\packages\\pythonsoftwarefoundation.python.3.11_qbz5n2kfra8p0\\localcache\\local-packages\\python311\\site-packages (from Levenshtein==0.27.1->python-Levenshtein) (3.12.2)\n"
     ]
    },
    {
     "name": "stderr",
     "output_type": "stream",
     "text": [
      "\n",
      "[notice] A new release of pip is available: 24.0 -> 25.0.1\n",
      "[notice] To update, run: C:\\Users\\lapto\\AppData\\Local\\Microsoft\\WindowsApps\\PythonSoftwareFoundation.Python.3.11_qbz5n2kfra8p0\\python.exe -m pip install --upgrade pip\n"
     ]
    },
    {
     "name": "stdout",
     "output_type": "stream",
     "text": [
      "Requirement already satisfied: pytz in c:\\users\\lapto\\appdata\\local\\packages\\pythonsoftwarefoundation.python.3.11_qbz5n2kfra8p0\\localcache\\local-packages\\python311\\site-packages (2025.1)\n"
     ]
    },
    {
     "name": "stderr",
     "output_type": "stream",
     "text": [
      "\n",
      "[notice] A new release of pip is available: 24.0 -> 25.0.1\n",
      "[notice] To update, run: C:\\Users\\lapto\\AppData\\Local\\Microsoft\\WindowsApps\\PythonSoftwareFoundation.Python.3.11_qbz5n2kfra8p0\\python.exe -m pip install --upgrade pip\n"
     ]
    },
    {
     "name": "stdout",
     "output_type": "stream",
     "text": [
      "Collecting en-core-web-sm==3.8.0\n",
      "  Downloading https://github.com/explosion/spacy-models/releases/download/en_core_web_sm-3.8.0/en_core_web_sm-3.8.0-py3-none-any.whl (12.8 MB)\n",
      "     ---------------------------------------- 0.0/12.8 MB ? eta -:--:--\n",
      "     ---------------------------------------- 0.0/12.8 MB ? eta -:--:--\n",
      "     ---------------------------------------- 0.0/12.8 MB ? eta -:--:--\n",
      "     --------------------------------------- 0.0/12.8 MB 245.8 kB/s eta 0:00:52\n",
      "     --------------------------------------- 0.1/12.8 MB 393.8 kB/s eta 0:00:33\n",
      "     --------------------------------------- 0.1/12.8 MB 554.9 kB/s eta 0:00:23\n",
      "      -------------------------------------- 0.2/12.8 MB 737.3 kB/s eta 0:00:18\n",
      "      -------------------------------------- 0.2/12.8 MB 801.7 kB/s eta 0:00:16\n",
      "      -------------------------------------- 0.3/12.8 MB 863.3 kB/s eta 0:00:15\n",
      "     - ------------------------------------- 0.4/12.8 MB 916.6 kB/s eta 0:00:14\n",
      "     - ------------------------------------- 0.4/12.8 MB 935.2 kB/s eta 0:00:14\n",
      "     - -------------------------------------- 0.5/12.8 MB 1.0 MB/s eta 0:00:13\n",
      "     - -------------------------------------- 0.6/12.8 MB 1.1 MB/s eta 0:00:12\n",
      "     -- ------------------------------------- 0.6/12.8 MB 1.1 MB/s eta 0:00:12\n",
      "     -- ------------------------------------- 0.7/12.8 MB 1.1 MB/s eta 0:00:11\n",
      "     -- ------------------------------------- 0.8/12.8 MB 1.2 MB/s eta 0:00:11\n",
      "     -- ------------------------------------- 0.9/12.8 MB 1.3 MB/s eta 0:00:10\n",
      "     --- ------------------------------------ 1.0/12.8 MB 1.3 MB/s eta 0:00:10\n",
      "     --- ------------------------------------ 1.1/12.8 MB 1.3 MB/s eta 0:00:09\n",
      "     --- ------------------------------------ 1.2/12.8 MB 1.4 MB/s eta 0:00:09\n",
      "     ---- ----------------------------------- 1.3/12.8 MB 1.4 MB/s eta 0:00:09\n",
      "     ---- ----------------------------------- 1.4/12.8 MB 1.5 MB/s eta 0:00:08\n",
      "     ---- ----------------------------------- 1.5/12.8 MB 1.5 MB/s eta 0:00:08\n",
      "     ----- ---------------------------------- 1.7/12.8 MB 1.6 MB/s eta 0:00:07\n",
      "     ----- ---------------------------------- 1.8/12.8 MB 1.6 MB/s eta 0:00:07\n",
      "     ----- ---------------------------------- 1.9/12.8 MB 1.7 MB/s eta 0:00:07\n",
      "     ------ --------------------------------- 2.1/12.8 MB 1.7 MB/s eta 0:00:07\n",
      "     ------ --------------------------------- 2.2/12.8 MB 1.8 MB/s eta 0:00:06\n",
      "     ------- -------------------------------- 2.4/12.8 MB 1.9 MB/s eta 0:00:06\n",
      "     ------- -------------------------------- 2.5/12.8 MB 1.9 MB/s eta 0:00:06\n",
      "     -------- ------------------------------- 2.7/12.8 MB 2.0 MB/s eta 0:00:06\n",
      "     -------- ------------------------------- 2.9/12.8 MB 2.0 MB/s eta 0:00:05\n",
      "     --------- ------------------------------ 3.0/12.8 MB 2.1 MB/s eta 0:00:05\n",
      "     ---------- ----------------------------- 3.3/12.8 MB 2.1 MB/s eta 0:00:05\n",
      "     ---------- ----------------------------- 3.5/12.8 MB 2.2 MB/s eta 0:00:05\n",
      "     ----------- ---------------------------- 3.7/12.8 MB 2.3 MB/s eta 0:00:05\n",
      "     ------------ --------------------------- 3.9/12.8 MB 2.3 MB/s eta 0:00:04\n",
      "     ------------ --------------------------- 4.1/12.8 MB 2.4 MB/s eta 0:00:04\n",
      "     ------------- -------------------------- 4.3/12.8 MB 2.5 MB/s eta 0:00:04\n",
      "     -------------- ------------------------- 4.6/12.8 MB 2.6 MB/s eta 0:00:04\n",
      "     --------------- ------------------------ 4.9/12.8 MB 2.7 MB/s eta 0:00:03\n",
      "     --------------- ------------------------ 5.1/12.8 MB 2.7 MB/s eta 0:00:03\n",
      "     ---------------- ----------------------- 5.4/12.8 MB 2.8 MB/s eta 0:00:03\n",
      "     ----------------- ---------------------- 5.7/12.8 MB 2.9 MB/s eta 0:00:03\n",
      "     ------------------ --------------------- 5.9/12.8 MB 2.9 MB/s eta 0:00:03\n",
      "     ------------------- -------------------- 6.2/12.8 MB 3.0 MB/s eta 0:00:03\n",
      "     -------------------- ------------------- 6.6/12.8 MB 3.1 MB/s eta 0:00:02\n",
      "     --------------------- ------------------ 7.0/12.8 MB 3.3 MB/s eta 0:00:02\n",
      "     ----------------------- ---------------- 7.4/12.8 MB 3.3 MB/s eta 0:00:02\n",
      "     ------------------------ --------------- 7.7/12.8 MB 3.4 MB/s eta 0:00:02\n",
      "     ------------------------- -------------- 8.2/12.8 MB 3.6 MB/s eta 0:00:02\n",
      "     --------------------------- ------------ 8.7/12.8 MB 3.7 MB/s eta 0:00:02\n",
      "     ---------------------------- ----------- 9.2/12.8 MB 3.8 MB/s eta 0:00:01\n",
      "     ------------------------------ --------- 9.7/12.8 MB 4.0 MB/s eta 0:00:01\n",
      "     ------------------------------- -------- 10.1/12.8 MB 4.1 MB/s eta 0:00:01\n",
      "     --------------------------------- ------ 10.6/12.8 MB 4.9 MB/s eta 0:00:01\n",
      "     ---------------------------------- ----- 11.2/12.8 MB 5.6 MB/s eta 0:00:01\n",
      "     ------------------------------------ --- 11.8/12.8 MB 6.3 MB/s eta 0:00:01\n",
      "     -------------------------------------- - 12.3/12.8 MB 7.0 MB/s eta 0:00:01\n",
      "     -------------------------------------- - 12.4/12.8 MB 6.8 MB/s eta 0:00:01\n",
      "     ---------------------------------------  12.6/12.8 MB 7.0 MB/s eta 0:00:01\n",
      "     ---------------------------------------  12.8/12.8 MB 7.1 MB/s eta 0:00:01\n",
      "     ---------------------------------------  12.8/12.8 MB 7.1 MB/s eta 0:00:01\n",
      "     ---------------------------------------  12.8/12.8 MB 7.1 MB/s eta 0:00:01\n",
      "     ---------------------------------------- 12.8/12.8 MB 6.5 MB/s eta 0:00:00\n",
      "\u001b[38;5;2m✔ Download and installation successful\u001b[0m\n",
      "You can now load the package via spacy.load('en_core_web_sm')\n"
     ]
    },
    {
     "name": "stderr",
     "output_type": "stream",
     "text": [
      "\n",
      "[notice] A new release of pip is available: 24.0 -> 25.0.1\n",
      "[notice] To update, run: C:\\Users\\lapto\\AppData\\Local\\Microsoft\\WindowsApps\\PythonSoftwareFoundation.Python.3.11_qbz5n2kfra8p0\\python.exe -m pip install --upgrade pip\n"
     ]
    },
    {
     "name": "stdout",
     "output_type": "stream",
     "text": [
      "Requirement already satisfied: nltk in c:\\users\\lapto\\appdata\\local\\packages\\pythonsoftwarefoundation.python.3.11_qbz5n2kfra8p0\\localcache\\local-packages\\python311\\site-packages (3.9.1)\n",
      "Requirement already satisfied: click in c:\\users\\lapto\\appdata\\local\\packages\\pythonsoftwarefoundation.python.3.11_qbz5n2kfra8p0\\localcache\\local-packages\\python311\\site-packages (from nltk) (8.1.8)\n",
      "Requirement already satisfied: joblib in c:\\users\\lapto\\appdata\\local\\packages\\pythonsoftwarefoundation.python.3.11_qbz5n2kfra8p0\\localcache\\local-packages\\python311\\site-packages (from nltk) (1.4.2)\n",
      "Requirement already satisfied: regex>=2021.8.3 in c:\\users\\lapto\\appdata\\local\\packages\\pythonsoftwarefoundation.python.3.11_qbz5n2kfra8p0\\localcache\\local-packages\\python311\\site-packages (from nltk) (2024.11.6)\n",
      "Requirement already satisfied: tqdm in c:\\users\\lapto\\appdata\\local\\packages\\pythonsoftwarefoundation.python.3.11_qbz5n2kfra8p0\\localcache\\local-packages\\python311\\site-packages (from nltk) (4.67.1)\n",
      "Requirement already satisfied: colorama in c:\\users\\lapto\\appdata\\local\\packages\\pythonsoftwarefoundation.python.3.11_qbz5n2kfra8p0\\localcache\\local-packages\\python311\\site-packages (from click->nltk) (0.4.6)\n"
     ]
    },
    {
     "name": "stderr",
     "output_type": "stream",
     "text": [
      "\n",
      "[notice] A new release of pip is available: 24.0 -> 25.0.1\n",
      "[notice] To update, run: C:\\Users\\lapto\\AppData\\Local\\Microsoft\\WindowsApps\\PythonSoftwareFoundation.Python.3.11_qbz5n2kfra8p0\\python.exe -m pip install --upgrade pip\n"
     ]
    }
   ],
   "source": [
    "!pip install chatterbot chatterbot_corpus\n",
    "!pip install fuzzywuzzy\n",
    "!pip install python-Levenshtein\n",
    "!pip install pytz\n",
    "!python -m spacy download en_core_web_sm\n",
    "!pip install nltk\n"
   ]
  },
  {
   "cell_type": "code",
   "execution_count": 24,
   "id": "53f7217f-3dc6-4713-bdd3-0be984531226",
   "metadata": {},
   "outputs": [],
   "source": [
    "import pytz\n",
    "import random\n",
    "import re\n",
    "from chatterbot import ChatBot\n",
    "from chatterbot.trainers import ListTrainer, ChatterBotCorpusTrainer\n",
    "from fuzzywuzzy import fuzz\n",
    "from datetime import datetime\n",
    "import nltk\n",
    "from nltk.corpus import wordnet\n"
   ]
  },
  {
   "cell_type": "code",
   "execution_count": 25,
   "id": "9a0e8fbd",
   "metadata": {},
   "outputs": [
    {
     "name": "stderr",
     "output_type": "stream",
     "text": [
      "[nltk_data] Downloading package wordnet to\n",
      "[nltk_data]     C:\\Users\\lapto\\AppData\\Roaming\\nltk_data...\n",
      "[nltk_data]   Package wordnet is already up-to-date!\n"
     ]
    },
    {
     "data": {
      "text/plain": [
       "True"
      ]
     },
     "execution_count": 25,
     "metadata": {},
     "output_type": "execute_result"
    }
   ],
   "source": [
    "nltk.download(\"wordnet\")"
   ]
  },
  {
   "cell_type": "code",
   "execution_count": 26,
   "id": "9a3f5116-a727-48db-9fd0-1a04cccb2252",
   "metadata": {},
   "outputs": [],
   "source": [
    "# Create a chatbot instance with SQL storage\n",
    "chatbot = ChatBot(\n",
    "    \"MyBot\",\n",
    "    storage_adapter=\"chatterbot.storage.SQLStorageAdapter\",\n",
    "    database_uri=\"sqlite:///chatbot_db.sqlite3\",\n",
    "    logic_adapters=[\n",
    "        \"chatterbot.logic.BestMatch\",  # Best matching response\n",
    "        \"chatterbot.logic.MathematicalEvaluation\",  # Handles math questions\n",
    "        \"chatterbot.logic.TimeLogicAdapter\"  # Tells the current time\n",
    "    ]\n",
    ")"
   ]
  },
  {
   "cell_type": "code",
   "execution_count": 27,
   "id": "3a986540-f245-4e00-8fd1-df1952b3dd86",
   "metadata": {},
   "outputs": [
    {
     "name": "stderr",
     "output_type": "stream",
     "text": [
      "ChatterBot Corpus Trainer: 19it [00:03,  5.82it/s]\n"
     ]
    }
   ],
   "source": [
    "trainer = ChatterBotCorpusTrainer(chatbot)\n",
    "trainer.train(\"chatterbot.corpus.english\")"
   ]
  },
  {
   "cell_type": "code",
   "execution_count": 28,
   "id": "62f68de2-0479-4203-915b-abfc3cfd24c3",
   "metadata": {},
   "outputs": [
    {
     "name": "stderr",
     "output_type": "stream",
     "text": [
      "List Trainer: 2it [00:00, 500.27it/s]\n",
      "List Trainer: 2it [00:00, 500.78it/s]\n",
      "List Trainer: 2it [00:00, 500.27it/s]\n",
      "List Trainer: 2it [00:00, 664.92it/s]\n"
     ]
    }
   ],
   "source": [
    "custom_trainer = ListTrainer(chatbot)\n",
    "custom_conversations = [\n",
    "    [\"Hello\", \"Hi there! How can I help you?\"],\n",
    "    [\"How are you?\", \"I'm just a BOT, but I'm doing well!\"],\n",
    "    [\"What is your name?\", \"I am FRIDAY, your AI assistant.\"],\n",
    "    [\"Bye\", \"Goodbye! Have a great day!\"]\n",
    "]\n",
    "\n",
    "for conv in custom_conversations:\n",
    "    custom_trainer.train(conv)"
   ]
  },
  {
   "cell_type": "code",
   "execution_count": 29,
   "id": "a72c5d9b-68b9-47bf-a7e0-abc22677afae",
   "metadata": {},
   "outputs": [
    {
     "name": "stderr",
     "output_type": "stream",
     "text": [
      "List Trainer: 6it [00:00, 683.13it/s]\n"
     ]
    }
   ],
   "source": [
    "jokes = [\n",
    "    \"Tell me a joke\",\n",
    "    \"Why don’t skeletons fight each other? They don’t have the guts!\",\n",
    "    \"Why don’t scientists trust atoms? Because they make up everything!\",\n",
    "    \"Why did the scarecrow win an award? Because he was outstanding in his field!\",\n",
    "    \"Why did the bicycle fall over? Because it was two-tired!\",\n",
    "    \"What do you call cheese that isn't yours? Nacho cheese!\"\n",
    "]\n",
    "custom_trainer.train(jokes)"
   ]
  },
  {
   "cell_type": "code",
   "execution_count": 30,
   "id": "34335548-6434-402d-86e5-7c788eef74f3",
   "metadata": {},
   "outputs": [
    {
     "name": "stderr",
     "output_type": "stream",
     "text": [
      "List Trainer: 4it [00:00, 1000.73it/s]\n"
     ]
    }
   ],
   "source": [
    "math_examples = [\n",
    "    \"What is 5 + 3?\",\n",
    "    \"The answer is 8.\",\n",
    "    \"What is 10 divided by 2?\",\n",
    "    \"That would be 5.\"\n",
    "]\n",
    "custom_trainer.train(math_examples)"
   ]
  },
  {
   "cell_type": "code",
   "execution_count": 31,
   "id": "0e0bd992-9499-4223-9646-d98c3b4e1833",
   "metadata": {},
   "outputs": [],
   "source": [
    "def is_repeat_request(user_input):\n",
    "    repeat_keywords = [\"again\", \"another one\", \"one more\", \"repeat\", \"give me another\", \"tell me again\"]\n",
    "    \n",
    "    for phrase in repeat_keywords:\n",
    "        if fuzz.ratio(user_input.lower(), phrase) > 70:  # 70% similarity threshold\n",
    "            return True\n",
    "    return False"
   ]
  },
  {
   "cell_type": "code",
   "execution_count": 32,
   "id": "92e61537-f419-4e82-a9b1-0fb135a27f67",
   "metadata": {},
   "outputs": [],
   "source": [
    "def is_math_expression(user_input):\n",
    "    return bool(re.match(r\"^\\s*-?\\d+(\\s*[\\+\\-\\*/]\\s*-?\\d+)+\\s*$\", user_input))\n"
   ]
  },
  {
   "cell_type": "code",
   "execution_count": 33,
   "id": "e0956c5e-64ee-4cd2-b1ea-61febf3d893c",
   "metadata": {},
   "outputs": [],
   "source": [
    "def get_current_time():\n",
    "    ist = pytz.timezone('Asia/Kolkata')  # IST timezone\n",
    "    current_time = datetime.now(ist).strftime(\"%I:%M %p\")  # Format: HH:MM AM/PM\n",
    "    return f\"The current time in IST is {current_time}.\""
   ]
  },
  {
   "cell_type": "code",
   "execution_count": 34,
   "id": "f6b66a53-cba7-49bc-9db7-0da362b105ea",
   "metadata": {},
   "outputs": [],
   "source": [
    "last_joke = \"\"\n",
    "last_question = \"\"\n",
    "last_response = \"\""
   ]
  },
  {
   "cell_type": "code",
   "execution_count": 35,
   "id": "01195c64",
   "metadata": {},
   "outputs": [],
   "source": [
    "# Function to get word meanings using NLTK's WordNet\n",
    "def get_word_meaning(word):\n",
    "    synsets = wordnet.synsets(word)\n",
    "    if synsets:\n",
    "        return synsets[0].definition()  # Return the first definition\n",
    "    else:\n",
    "        return \"Sorry, I couldn't find the meaning of that word.\""
   ]
  },
  {
   "cell_type": "code",
   "execution_count": 36,
   "id": "447346ae",
   "metadata": {},
   "outputs": [],
   "source": [
    "# Function to get the current date\n",
    "def get_current_date():\n",
    "    return datetime.now().strftime(\"%A, %B %d, %Y\")"
   ]
  },
  {
   "cell_type": "code",
   "execution_count": 37,
   "id": "73e0a1f0",
   "metadata": {},
   "outputs": [
    {
     "name": "stdout",
     "output_type": "stream",
     "text": [
      "* Running on local URL:  http://127.0.0.1:7866\n",
      "\n",
      "To create a public link, set `share=True` in `launch()`.\n"
     ]
    },
    {
     "data": {
      "text/html": [
       "<div><iframe src=\"http://127.0.0.1:7866/\" width=\"100%\" height=\"500\" allow=\"autoplay; camera; microphone; clipboard-read; clipboard-write;\" frameborder=\"0\" allowfullscreen></iframe></div>"
      ],
      "text/plain": [
       "<IPython.core.display.HTML object>"
      ]
     },
     "metadata": {},
     "output_type": "display_data"
    },
    {
     "data": {
      "text/plain": []
     },
     "execution_count": 37,
     "metadata": {},
     "output_type": "execute_result"
    }
   ],
   "source": [
    "\n",
    "import gradio as gr\n",
    "\n",
    "# Define the chatbot function wrapped for Gradio\n",
    "def chat_with_bot(user_input):\n",
    "    global last_question, last_joke\n",
    "\n",
    "    if user_input.lower() in [\"exit\", \"quit\",\"bye\"]:\n",
    "        return \"Goodbye! I hope Disha Maam likes your project :), please give full marks and dont ask them many questions! 🫶🙏\"\n",
    "\n",
    "\n",
    "    if user_input.lower() in [\"what's the time?\", \"tell me the time\", \"current time\",\"time\"]:\n",
    "        return get_current_time()\n",
    "    \n",
    "    if any(phrase in user_input for phrase in [\"what is today's date\", \"what is the date\", \"tell me the date\",\"date\"]):\n",
    "        return f\"Today's date is {get_current_date()}.\"\n",
    "    \n",
    "    if user_input.startswith(\"what is the meaning of\") or user_input.startswith(\"define\"):\n",
    "        word = user_input.split()[-1]  # Extract the last word as the query\n",
    "        return get_word_meaning(word)\n",
    "\n",
    "    if is_repeat_request(user_input):\n",
    "        if last_question == \"Tell me a joke\":\n",
    "            new_joke = random.choice([j for j in jokes if j != last_joke])\n",
    "            response = new_joke\n",
    "            last_joke = new_joke\n",
    "        elif last_question:\n",
    "            response = chatbot.get_response(last_question)\n",
    "        else:\n",
    "            response = \"I’m not sure what you want me to repeat.\"\n",
    "\n",
    "    elif is_math_expression(user_input):\n",
    "        try:\n",
    "            result = eval(user_input)  \n",
    "            response = f\"The answer is {result}.\"\n",
    "        except:\n",
    "            response = \"Sorry, I couldn't calculate that.\"\n",
    "        last_question = user_input\n",
    "\n",
    "    elif user_input.lower() in [\"tell me a joke\", \"say something funny\"]:\n",
    "        new_joke = random.choice(jokes)\n",
    "        response = new_joke\n",
    "        last_joke = new_joke\n",
    "        last_question = \"Tell me a joke\"\n",
    "\n",
    "    else:\n",
    "        response = chatbot.get_response(user_input)\n",
    "        last_question = user_input\n",
    "\n",
    "    if isinstance(response, str) or response.confidence > 0.7:\n",
    "        return str(response)\n",
    "    else:\n",
    "        return \"I'm not sure how to respond to that.\"\n",
    "\n",
    "# Create Gradio interface\n",
    "interface = gr.Interface(\n",
    "    fn=chat_with_bot,\n",
    "    inputs=\"text\",\n",
    "    outputs=\"text\",\n",
    "    title=\"FRIDAY - Your Personal AI Assistant\",\n",
    "    description=\"Ask me anything! 😎\"\n",
    ")\n",
    "\n",
    "# Launch the chatbot UI\n",
    "interface.launch()\n"
   ]
  },
  {
   "cell_type": "code",
   "execution_count": null,
   "id": "b69f7f3c-bb5c-45e0-aebb-2fae6f5ba85d",
   "metadata": {},
   "outputs": [],
   "source": []
  }
 ],
 "metadata": {
  "kernelspec": {
   "display_name": "Python 3",
   "language": "python",
   "name": "python3"
  },
  "language_info": {
   "codemirror_mode": {
    "name": "ipython",
    "version": 3
   },
   "file_extension": ".py",
   "mimetype": "text/x-python",
   "name": "python",
   "nbconvert_exporter": "python",
   "pygments_lexer": "ipython3",
   "version": "3.11.9"
  }
 },
 "nbformat": 4,
 "nbformat_minor": 5
}
